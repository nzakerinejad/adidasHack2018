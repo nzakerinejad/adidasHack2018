{
 "cells": [
  {
   "cell_type": "code",
   "execution_count": 4,
   "metadata": {},
   "outputs": [],
   "source": [
    "import requests\n",
    "import json"
   ]
  },
  {
   "cell_type": "code",
   "execution_count": null,
   "metadata": {},
   "outputs": [],
   "source": [
    "import http.client\n",
    "\n",
    "conn = http.client.HTTPSConnection(\"www.adidas.com\")\n",
    "\n",
    "headers = {\n",
    "    'cache-control': \"no-cache\",\n",
    "    'postman-token': \"1e1d1820-f10c-3eec-168f-ac3fb878b6cc\"\n",
    "    }\n",
    "\n",
    "conn.request(\"GET\", \"/api/products/CV9889\", headers=headers)\n",
    "\n",
    "res = conn.getresponse()\n",
    "data = res.read()\n",
    "\n",
    "print(data.decode(\"utf-8\"))"
   ]
  },
  {
   "cell_type": "code",
   "execution_count": 5,
   "metadata": {},
   "outputs": [
    {
     "data": {
      "text/plain": [
       "'[[\"CW1319\", \"Trefoil Manager Coat\"], [\"CE2396\", \"ST TT\"], [\"CE2404\", \"SST TP \"], [\"CW1272\", \"BECKENBAUER TP\"], [\"CY4767\", \"CROPPED HOODIE\"], [\"BR6930\", \"Minoh Crew Tee\"], [\"CE2344\", \"EQT Classic Backpack\"], [\"CV9889\", \"TREFOIL TEE\"]]'"
      ]
     },
     "execution_count": 5,
     "metadata": {},
     "output_type": "execute_result"
    }
   ],
   "source": [
    "product = [[\"CW1319\", \"Trefoil Manager Coat\"],\n",
    "[\"CE2396\", \"ST TT\"],\n",
    "[\"CE2404\", \"SST TP \"],\n",
    "[\"CW1272\", \"BECKENBAUER TP\"],\n",
    "[\"CY4767\", \"CROPPED HOODIE\"],\n",
    "[\"BR6930\", \"Minoh Crew Tee\"],\n",
    "[\"CE2344\", \"EQT Classic Backpack\"],\n",
    "[\"CV9889\", \"TREFOIL TEE\"]]\n",
    "json.dumps(product)"
   ]
  }
 ],
 "metadata": {
  "kernelspec": {
   "display_name": "Python 3",
   "language": "python",
   "name": "python3"
  },
  "language_info": {
   "codemirror_mode": {
    "name": "ipython",
    "version": 3
   },
   "file_extension": ".py",
   "mimetype": "text/x-python",
   "name": "python",
   "nbconvert_exporter": "python",
   "pygments_lexer": "ipython3",
   "version": "3.6.3"
  }
 },
 "nbformat": 4,
 "nbformat_minor": 2
}
